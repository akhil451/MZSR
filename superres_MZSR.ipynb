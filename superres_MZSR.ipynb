{
  "nbformat": 4,
  "nbformat_minor": 0,
  "metadata": {
    "colab": {
      "name": "superres_MZSR.ipynb",
      "provenance": [],
      "collapsed_sections": [],
      "mount_file_id": "1SsvIHbu1twCV7yo1T4yidZajHU0GbBF8",
      "authorship_tag": "ABX9TyMhC7MgGRiRFfEaXRO1eGmO",
      "include_colab_link": true
    },
    "kernelspec": {
      "name": "python3",
      "display_name": "Python 3"
    },
    "accelerator": "GPU"
  },
  "cells": [
    {
      "cell_type": "markdown",
      "metadata": {
        "id": "view-in-github",
        "colab_type": "text"
      },
      "source": [
        "<a href=\"https://colab.research.google.com/github/akhil451/MZSR/blob/master/superres_MZSR.ipynb\" target=\"_parent\"><img src=\"https://colab.research.google.com/assets/colab-badge.svg\" alt=\"Open In Colab\"/></a>"
      ]
    },
    {
      "cell_type": "code",
      "metadata": {
        "id": "qsb8TtgfmyGH",
        "colab_type": "code",
        "outputId": "58ff942f-81d8-4820-e2c8-136a6f404738",
        "colab": {
          "base_uri": "https://localhost:8080/",
          "height": 136
        }
      },
      "source": [
        "! git clone https://github.com/akhil451/MZSR"
      ],
      "execution_count": 7,
      "outputs": [
        {
          "output_type": "stream",
          "text": [
            "Cloning into 'MZSR'...\n",
            "remote: Enumerating objects: 54, done.\u001b[K\n",
            "remote: Counting objects: 100% (54/54), done.\u001b[K\n",
            "remote: Compressing objects: 100% (42/42), done.\u001b[K\n",
            "remote: Total 54 (delta 9), reused 50 (delta 8), pack-reused 0\u001b[K\n",
            "Unpacking objects: 100% (54/54), done.\n",
            "fatal: destination path 'MZSR' already exists and is not an empty directory.\n"
          ],
          "name": "stdout"
        }
      ]
    },
    {
      "cell_type": "code",
      "metadata": {
        "id": "uEGYT1YTm_-o",
        "colab_type": "code",
        "colab": {}
      },
      "source": [
        "# ! wget http://people.csail.mit.edu/billf/project%20pages/sresCode/Markov%20Random%20Fields%20for%20Super-Resolution_files/iccv.maddie.small.tif "
      ],
      "execution_count": 0,
      "outputs": []
    },
    {
      "cell_type": "code",
      "metadata": {
        "id": "r5PKRYZB2eVE",
        "colab_type": "code",
        "colab": {}
      },
      "source": [
        "import os\n",
        "os.chdir(\"/content/MZSR/\")\n",
        "\n"
      ],
      "execution_count": 0,
      "outputs": []
    },
    {
      "cell_type": "markdown",
      "metadata": {
        "id": "P4MK2eEGe8jV",
        "colab_type": "text"
      },
      "source": [
        ""
      ]
    },
    {
      "cell_type": "code",
      "metadata": {
        "id": "leKUkxVi8trb",
        "colab_type": "code",
        "colab": {}
      },
      "source": [
        "# ! pip install wget"
      ],
      "execution_count": 0,
      "outputs": []
    },
    {
      "cell_type": "code",
      "metadata": {
        "id": "aUkZk6UZ-6DQ",
        "colab_type": "code",
        "colab": {}
      },
      "source": [
        "if not os.path.exists(\"/content/MZSR/Input_test\"):\n",
        "  os.makedirs(\"/content/MZSR/Input_test\")"
      ],
      "execution_count": 0,
      "outputs": []
    },
    {
      "cell_type": "code",
      "metadata": {
        "id": "FUmMT02_JYv8",
        "colab_type": "code",
        "colab": {}
      },
      "source": [
        "# ! pip install wget"
      ],
      "execution_count": 0,
      "outputs": []
    },
    {
      "cell_type": "code",
      "metadata": {
        "id": "ndX4kLTn8eBF",
        "colab_type": "code",
        "colab": {}
      },
      "source": [
        "# import wget\n",
        "# wget.download(\"https://scontent.fdel1-3.fna.fbcdn.net/v/t1.0-1/c0.5.599.599a/13718686_1921601824733566_7077668758927121908_n.jpg?_nc_cat=108&_nc_sid=dbb9e7&_nc_oc=AQkBSOPUg_eYma8PZ7AK5PvfS79e0kjX-OCY0wCQeYQdtj7IXqjJA8pq9BNNXqOTwas&_nc_ht=scontent.fdel1-3.fna&oh=2dcbf8f555d7943edcc20d2eef3656a5&oe=5E998FF0\",'/content/MZSR/Input_test/test1.jpg')"
      ],
      "execution_count": 0,
      "outputs": []
    },
    {
      "cell_type": "code",
      "metadata": {
        "id": "tp3_Zo3RntHb",
        "colab_type": "code",
        "outputId": "6ee14f85-8c4a-4e17-a018-d2ebbc8f5109",
        "colab": {
          "base_uri": "https://localhost:8080/",
          "height": 1000
        }
      },
      "source": [
        "! python main.py --gpu 0 --inputpath /content/MZSR/Input_test --gtpath GT/Set5/ --savepath /content/MZSR/Input_test_op --kernelpath Input/g20/kernel.mat --model 3 --num 1"
      ],
      "execution_count": 16,
      "outputs": [
        {
          "output_type": "stream",
          "text": [
            "WARNING:tensorflow:From main.py:11: The name tf.ConfigProto is deprecated. Please use tf.compat.v1.ConfigProto instead.\n",
            "\n",
            "Direct Downscaling, Scaling factor x4 Model\n",
            "WARNING:tensorflow:From /content/MZSR/test.py:32: The name tf.reset_default_graph is deprecated. Please use tf.compat.v1.reset_default_graph instead.\n",
            "\n",
            "WARNING:tensorflow:From /content/MZSR/test.py:34: The name tf.placeholder is deprecated. Please use tf.compat.v1.placeholder instead.\n",
            "\n",
            "WARNING:tensorflow:From /content/MZSR/model.py:15: The name tf.variable_scope is deprecated. Please use tf.compat.v1.variable_scope instead.\n",
            "\n",
            "WARNING:tensorflow:From /content/MZSR/model.py:16: The name tf.get_variable is deprecated. Please use tf.compat.v1.get_variable instead.\n",
            "\n",
            "Initialize weights MODEL\n",
            "Build Model MODEL\n",
            "WARNING:tensorflow:From /content/MZSR/test.py:49: The name tf.losses.absolute_difference is deprecated. Please use tf.compat.v1.losses.absolute_difference instead.\n",
            "\n",
            "WARNING:tensorflow:From /usr/local/lib/python3.6/dist-packages/tensorflow_core/python/ops/losses/losses_impl.py:121: where (from tensorflow.python.ops.array_ops) is deprecated and will be removed in a future version.\n",
            "Instructions for updating:\n",
            "Use tf.where in 2.0, which has the same broadcast rule as np.where\n",
            "WARNING:tensorflow:From /content/MZSR/test.py:52: The name tf.train.GradientDescentOptimizer is deprecated. Please use tf.compat.v1.train.GradientDescentOptimizer instead.\n",
            "\n",
            "WARNING:tensorflow:From /content/MZSR/test.py:53: The name tf.global_variables_initializer is deprecated. Please use tf.compat.v1.global_variables_initializer instead.\n",
            "\n",
            "WARNING:tensorflow:From /content/MZSR/test.py:56: The name tf.get_collection is deprecated. Please use tf.compat.v1.get_collection instead.\n",
            "\n",
            "WARNING:tensorflow:From /content/MZSR/test.py:56: The name tf.GraphKeys is deprecated. Please use tf.compat.v1.GraphKeys instead.\n",
            "\n",
            "WARNING:tensorflow:From /content/MZSR/test.py:58: The name tf.train.Saver is deprecated. Please use tf.compat.v1.train.Saver instead.\n",
            "\n",
            "WARNING:tensorflow:From /content/MZSR/test.py:60: The name tf.Session is deprecated. Please use tf.compat.v1.Session instead.\n",
            "\n",
            "/content/MZSR/Input_test/Deyann-Green-Silk-Blend-Kurta-SDL210705558-1-ea047.jpeg\n",
            "input image shape: (995, 850, 3)\n",
            "=============== Load Meta-trained Model parameters... ==============\n",
            "Scale:  4.0 , iteration:  1 , loss:  0.018219747\n",
            "7.96 seconds\n",
            "/content/MZSR/Input_test/Deyann-Green-Silk-Blend-Kurta-SDL210705558-2-47c19.jpeg\n",
            "input image shape: (995, 850, 3)\n",
            "=============== Load Meta-trained Model parameters... ==============\n",
            "Scale:  4.0 , iteration:  1 , loss:  0.015753606\n",
            "0.91 seconds\n",
            "/content/MZSR/Input_test/Deyann-Green-Silk-Blend-Kurta-SDL210705558-3-a1b8d.jpeg\n",
            "input image shape: (995, 850, 3)\n",
            "=============== Load Meta-trained Model parameters... ==============\n",
            "Scale:  4.0 , iteration:  1 , loss:  0.016723309\n",
            "0.79 seconds\n",
            "/content/MZSR/Input_test/EXPORTHOUSE-Peach-Rayon-Angrakha-Kurti-SDL677175492-1-f3080.jpeg\n",
            "input image shape: (995, 850, 3)\n",
            "=============== Load Meta-trained Model parameters... ==============\n",
            "Scale:  4.0 , iteration:  1 , loss:  0.009822963\n",
            "0.78 seconds\n",
            "/content/MZSR/Input_test/EXPORTHOUSE-Peach-Rayon-Angrakha-Kurti-SDL677175492-2-37012.jpeg\n",
            "input image shape: (995, 850, 3)\n",
            "=============== Load Meta-trained Model parameters... ==============\n",
            "Scale:  4.0 , iteration:  1 , loss:  0.008767331\n",
            "0.88 seconds\n",
            "/content/MZSR/Input_test/GN-hub-White-Cotton-Dhoti-SDL156444902-1-385b2.jpeg\n",
            "input image shape: (995, 850, 3)\n",
            "=============== Load Meta-trained Model parameters... ==============\n",
            "Scale:  4.0 , iteration:  1 , loss:  0.00710034\n",
            "0.79 seconds\n",
            "/content/MZSR/Input_test/GN-hub-White-Cotton-Dhoti-SDL156444902-2-6f1ec.jpeg\n",
            "input image shape: (995, 850, 3)\n",
            "=============== Load Meta-trained Model parameters... ==============\n",
            "Scale:  4.0 , iteration:  1 , loss:  0.006488111\n",
            "0.78 seconds\n",
            "/content/MZSR/Input_test/RG-Designers-Blue-Silk-Blend-SDL886230244-1-e0e6c.jpg\n",
            "input image shape: (995, 850, 3)\n",
            "=============== Load Meta-trained Model parameters... ==============\n",
            "Scale:  4.0 , iteration:  1 , loss:  0.009672913\n",
            "0.90 seconds\n",
            "/content/MZSR/Input_test/Sttoffa-White-Cotton-Kurta-Pyjama-SDL555847232-1-0249c.jpeg\n",
            "input image shape: (995, 850, 3)\n",
            "=============== Load Meta-trained Model parameters... ==============\n",
            "Scale:  4.0 , iteration:  1 , loss:  0.005736917\n",
            "0.78 seconds\n",
            "/content/MZSR/Input_test/Sttoffa-White-Cotton-Kurta-Pyjama-SDL555847232-2-94ede.jpeg\n",
            "input image shape: (995, 850, 3)\n",
            "=============== Load Meta-trained Model parameters... ==============\n",
            "Scale:  4.0 , iteration:  1 , loss:  0.0059079803\n",
            "0.77 seconds\n",
            "/content/MZSR/Input_test/Yash-Gallery-Green-Cotton-Anarkali-SDL244787443-1-d3e6d.jpeg\n",
            "input image shape: (995, 850, 3)\n",
            "=============== Load Meta-trained Model parameters... ==============\n",
            "Scale:  4.0 , iteration:  1 , loss:  0.009625042\n",
            "0.78 seconds\n",
            "/content/MZSR/Input_test/Yash-Gallery-Green-Cotton-Anarkali-SDL244787443-2-8eeb5.jpeg\n",
            "input image shape: (995, 850, 3)\n",
            "=============== Load Meta-trained Model parameters... ==============\n",
            "Scale:  4.0 , iteration:  1 , loss:  0.0098505495\n",
            "0.91 seconds\n",
            "/content/MZSR/Input_test/Yash-Gallery-Green-Cotton-Anarkali-SDL244787443-4-ff87f.jpeg\n",
            "input image shape: (995, 850, 3)\n",
            "=============== Load Meta-trained Model parameters... ==============\n",
            "Scale:  4.0 , iteration:  1 , loss:  0.008577762\n",
            "0.77 seconds\n"
          ],
          "name": "stdout"
        }
      ]
    },
    {
      "cell_type": "code",
      "metadata": {
        "id": "nKE0SuZEgwm5",
        "colab_type": "code",
        "colab": {
          "base_uri": "https://localhost:8080/",
          "height": 292
        },
        "outputId": "62e5abe5-dbbe-45c7-d39b-c38f98061d0f"
      },
      "source": [
        "# ! zip -r input_zip \"/content/MZSR/Input_test_op\""
      ],
      "execution_count": 17,
      "outputs": [
        {
          "output_type": "stream",
          "text": [
            "  adding: content/MZSR/Input_test_op/ (stored 0%)\n",
            "  adding: content/MZSR/Input_test_op/01/ (stored 0%)\n",
            "  adding: content/MZSR/Input_test_op/01/Deyann-Green-Silk-Blend-Kurta-SDL210705558-1-ea047..png (deflated 1%)\n",
            "  adding: content/MZSR/Input_test_op/01/EXPORTHOUSE-Peach-Rayon-Angrakha-Kurti-SDL677175492-1-f3080..png (deflated 3%)\n",
            "  adding: content/MZSR/Input_test_op/01/Sttoffa-White-Cotton-Kurta-Pyjama-SDL555847232-2-94ede..png (deflated 4%)\n",
            "  adding: content/MZSR/Input_test_op/01/Sttoffa-White-Cotton-Kurta-Pyjama-SDL555847232-1-0249c..png (deflated 4%)\n",
            "  adding: content/MZSR/Input_test_op/01/Yash-Gallery-Green-Cotton-Anarkali-SDL244787443-4-ff87f..png (deflated 4%)\n",
            "  adding: content/MZSR/Input_test_op/01/RG-Designers-Blue-Silk-Blend-SDL886230244-1-e0e6c.png (deflated 4%)\n",
            "  adding: content/MZSR/Input_test_op/01/EXPORTHOUSE-Peach-Rayon-Angrakha-Kurti-SDL677175492-2-37012..png (deflated 3%)\n",
            "  adding: content/MZSR/Input_test_op/01/GN-hub-White-Cotton-Dhoti-SDL156444902-1-385b2..png (deflated 3%)\n",
            "  adding: content/MZSR/Input_test_op/01/Yash-Gallery-Green-Cotton-Anarkali-SDL244787443-1-d3e6d..png (deflated 3%)\n",
            "  adding: content/MZSR/Input_test_op/01/Deyann-Green-Silk-Blend-Kurta-SDL210705558-2-47c19..png (deflated 1%)\n",
            "  adding: content/MZSR/Input_test_op/01/Deyann-Green-Silk-Blend-Kurta-SDL210705558-3-a1b8d..png (deflated 1%)\n",
            "  adding: content/MZSR/Input_test_op/01/GN-hub-White-Cotton-Dhoti-SDL156444902-2-6f1ec..png (deflated 4%)\n",
            "  adding: content/MZSR/Input_test_op/01/Yash-Gallery-Green-Cotton-Anarkali-SDL244787443-2-8eeb5..png (deflated 3%)\n"
          ],
          "name": "stdout"
        }
      ]
    },
    {
      "cell_type": "code",
      "metadata": {
        "id": "vogo3NVg5moE",
        "colab_type": "code",
        "colab": {}
      },
      "source": [
        "## new main()"
      ],
      "execution_count": 0,
      "outputs": []
    },
    {
      "cell_type": "code",
      "metadata": {
        "id": "GlI1nz9lxLvC",
        "colab_type": "code",
        "colab": {
          "base_uri": "https://localhost:8080/",
          "height": 340
        },
        "outputId": "e29692c7-157d-4acf-f875-79d07fd89a1c"
      },
      "source": [
        "! "
      ],
      "execution_count": 18,
      "outputs": [
        {
          "output_type": "stream",
          "text": [
            "On branch master\n",
            "Your branch is up to date with 'origin/master'.\n",
            "\n",
            "Changes not staged for commit:\n",
            "  (use \"git add <file>...\" to update what will be committed)\n",
            "  (use \"git checkout -- <file>...\" to discard changes in working directory)\n",
            "\n",
            "\t\u001b[31mmodified:   test.py\u001b[m\n",
            "\n",
            "Untracked files:\n",
            "  (use \"git add <file>...\" to include in what will be committed)\n",
            "\n",
            "\t\u001b[31mInput_test/\u001b[m\n",
            "\t\u001b[31mInput_test_op/\u001b[m\n",
            "\t\u001b[31mMZSR/\u001b[m\n",
            "\t\u001b[31m__pycache__/\u001b[m\n",
            "\t\u001b[31minput_zip.zip\u001b[m\n",
            "\n",
            "no changes added to commit (use \"git add\" and/or \"git commit -a\")\n"
          ],
          "name": "stdout"
        }
      ]
    },
    {
      "cell_type": "code",
      "metadata": {
        "id": "lZjFqmy57_Dq",
        "colab_type": "code",
        "colab": {}
      },
      "source": [
        "# new test"
      ],
      "execution_count": 0,
      "outputs": []
    },
    {
      "cell_type": "code",
      "metadata": {
        "id": "G4M3apv45tQu",
        "colab_type": "code",
        "outputId": "0d07075d-6cb1-4724-d4ad-3ba23d78e492",
        "colab": {
          "base_uri": "https://localhost:8080/",
          "height": 80
        }
      },
      "source": [
        ""
      ],
      "execution_count": 0,
      "outputs": [
        {
          "output_type": "display_data",
          "data": {
            "text/html": [
              "<p style=\"color: red;\">\n",
              "The default version of TensorFlow in Colab will soon switch to TensorFlow 2.x.<br>\n",
              "We recommend you <a href=\"https://www.tensorflow.org/guide/migrate\" target=\"_blank\">upgrade</a> now \n",
              "or ensure your notebook will continue to use TensorFlow 1.x via the <code>%tensorflow_version 1.x</code> magic:\n",
              "<a href=\"https://colab.research.google.com/notebooks/tensorflow_version.ipynb\" target=\"_blank\">more info</a>.</p>\n"
            ],
            "text/plain": [
              "<IPython.core.display.HTML object>"
            ]
          },
          "metadata": {
            "tags": []
          }
        }
      ]
    },
    {
      "cell_type": "code",
      "metadata": {
        "id": "3k4VCBfd5vq3",
        "colab_type": "code",
        "colab": {}
      },
      "source": [
        ""
      ],
      "execution_count": 0,
      "outputs": []
    }
  ]
}